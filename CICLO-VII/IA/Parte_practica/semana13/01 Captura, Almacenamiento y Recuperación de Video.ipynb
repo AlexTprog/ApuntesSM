{
 "cells": [
  {
   "cell_type": "markdown",
   "id": "a5ab8d3d",
   "metadata": {},
   "source": [
    "# Captura, Almacenamiento y Recuperación de Videos"
   ]
  },
  {
   "cell_type": "code",
   "execution_count": 2,
   "id": "0cb38b28",
   "metadata": {},
   "outputs": [],
   "source": [
    "import cv2"
   ]
  },
  {
   "cell_type": "markdown",
   "id": "e94e8a08",
   "metadata": {},
   "source": [
    "### Captura de vídeo"
   ]
  },
  {
   "cell_type": "code",
   "execution_count": 7,
   "id": "9c5dcc87",
   "metadata": {},
   "outputs": [],
   "source": [
    "captura = cv2.VideoCapture(0)\n",
    "\n",
    "while (captura.isOpened()):\n",
    "    ret, imagen = captura.read()\n",
    "    if ret == True:\n",
    "        cv2.imshow('Vídeo',imagen)\n",
    "        if cv2.waitKey(0) & 0xFF == ord('s'):\n",
    "            break\n",
    "\n",
    "captura.release()\n",
    "cv2.destroyAllWindows()"
   ]
  },
  {
   "cell_type": "markdown",
   "id": "03dd1bcb",
   "metadata": {},
   "source": [
    "### Grabar Video"
   ]
  },
  {
   "cell_type": "code",
   "execution_count": 3,
   "id": "bdfeef07",
   "metadata": {},
   "outputs": [],
   "source": [
    "captura = cv2.VideoCapture(0)\n",
    "salida = cv2.VideoWriter('videoSalida1.avi',\n",
    "                        cv2.VideoWriter_fourcc(*'XVID'),\n",
    "                        20,(1280,720))\n",
    "\n",
    "while (captura.isOpened()):\n",
    "    ret, imagen = captura.read()\n",
    "    if ret == True:\n",
    "        cv2.imshow('Video',imagen)\n",
    "        salida.write(imagen)\n",
    "        if cv2.waitKey(0) & 0xFF == ord('s'):\n",
    "            break\n",
    "    else:\n",
    "        break\n",
    "captura.release()\n",
    "salida.release()\n",
    "cv2.destroyAllWindows()"
   ]
  },
  {
   "cell_type": "markdown",
   "id": "f9d22284",
   "metadata": {},
   "source": [
    "### Recuperar el video y mostrarlo"
   ]
  },
  {
   "cell_type": "code",
   "execution_count": 15,
   "id": "dd9fc804",
   "metadata": {},
   "outputs": [],
   "source": [
    "captura = cv2.VideoCapture('videoSalida1.avi')\n",
    "while (captura.isOpened()):\n",
    "    ret, imagen = captura.read()\n",
    "    if ret == True:\n",
    "        cv2.imshow('Vídeo',imagen)\n",
    "        if cv2.waitKey(30) == ord('s'):\n",
    "            break\n",
    "    else:\n",
    "        break\n",
    "captura.release()\n",
    "cv2.destroyAllWindows()"
   ]
  }
 ],
 "metadata": {
  "kernelspec": {
   "display_name": "Python 3.10.5 ('env': venv)",
   "language": "python",
   "name": "python3"
  },
  "language_info": {
   "codemirror_mode": {
    "name": "ipython",
    "version": 3
   },
   "file_extension": ".py",
   "mimetype": "text/x-python",
   "name": "python",
   "nbconvert_exporter": "python",
   "pygments_lexer": "ipython3",
   "version": "3.10.5"
  },
  "vscode": {
   "interpreter": {
    "hash": "fa4aca12417c496b34716c6e923830efca14ac6022a94ec1835df235f07f1bf2"
   }
  }
 },
 "nbformat": 4,
 "nbformat_minor": 5
}
