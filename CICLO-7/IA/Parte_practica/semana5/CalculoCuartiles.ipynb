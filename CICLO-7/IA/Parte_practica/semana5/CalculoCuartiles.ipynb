{
 "cells": [
  {
   "cell_type": "markdown",
   "metadata": {},
   "source": [
    "# Calculo de los Cuartiles a las edades por clase en el problema del Titanic: CORREGIDO"
   ]
  },
  {
   "cell_type": "code",
   "execution_count": 28,
   "metadata": {},
   "outputs": [],
   "source": [
    "import pandas as pd\n",
    "import numpy as np\n",
    "import matplotlib.pyplot as plt\n",
    "import seaborn as sns\n",
    "%matplotlib inline"
   ]
  },
  {
   "cell_type": "code",
   "execution_count": 29,
   "metadata": {},
   "outputs": [
    {
     "data": {
      "text/plain": [
       "<AxesSubplot:xlabel='Pclass', ylabel='Age'>"
      ]
     },
     "execution_count": 29,
     "metadata": {},
     "output_type": "execute_result"
    },
    {
     "data": {
      "image/png": "[encoded data removed]",
      "text/plain": [
       "<Figure size 432x288 with 1 Axes>"
      ]
     },
     "metadata": {
      "needs_background": "light"
     },
     "output_type": "display_data"
    }
   ],
   "source": [
    "datos = pd.read_csv('titanic_train.csv')\n",
    "\n",
    "sns.boxplot(x='Pclass',y='Age',data=datos,palette='winter')"
   ]
  },
  {
   "cell_type": "code",
   "execution_count": 30,
   "metadata": {},
   "outputs": [],
   "source": [
    "pasaj_c1 = datos[(datos['Pclass']==1)]\n",
    "pasaj_c2 = datos[(datos['Pclass']==2)]\n",
    "pasaj_c3 = datos[(datos['Pclass']==3)]"
   ]
  },
  {
   "cell_type": "code",
   "execution_count": 31,
   "metadata": {},
   "outputs": [],
   "source": [
    "edades_c1 = pasaj_c1['Age']\n",
    "edades_c2 = pasaj_c2['Age'].dropna()\n",
    "edades_c3 = pasaj_c3['Age'].dropna()"
   ]
  },
  {
   "cell_type": "code",
   "execution_count": 32,
   "metadata": {},
   "outputs": [],
   "source": [
    "cuartiles_c1 = pd.DataFrame(edades_c1.quantile([0.25,0.50,0.75]))\n",
    "cuartiles_c1.columns = ['Edad']\n",
    "cuartiles_c1.index = ['Q1','Q2','Q3']\n",
    "\n",
    "cuartiles_c2 = pd.DataFrame(edades_c2.quantile([0.25,0.50,0.75]))\n",
    "cuartiles_c2.columns = ['Edad']\n",
    "cuartiles_c2.index = ['Q1','Q2','Q3']\n",
    "\n",
    "cuartiles_c3 = pd.DataFrame(edades_c3.quantile([0.25,0.50,0.75]))\n",
    "cuartiles_c3.columns = ['Edad']\n",
    "cuartiles_c3.index = ['Q1','Q2','Q3']"
   ]
  },
  {
   "cell_type": "code",
   "execution_count": 33,
   "metadata": {},
   "outputs": [
    {
     "name": "stdout",
     "output_type": "stream",
     "text": [
      "Primera Clase\n",
      "     Edad\n",
      "Q1  27.0\n",
      "Q2  37.0\n",
      "Q3  49.0\n",
      "Segunda Clase\n",
      "     Edad\n",
      "Q1  23.0\n",
      "Q2  29.0\n",
      "Q3  36.0\n",
      "Tercera Clase\n",
      "     Edad\n",
      "Q1  18.0\n",
      "Q2  24.0\n",
      "Q3  32.0\n"
     ]
    }
   ],
   "source": [
    "print(\"Primera Clase\\n\",cuartiles_c1)\n",
    "print(\"Segunda Clase\\n\",cuartiles_c2)\n",
    "print(\"Tercera Clase\\n\",cuartiles_c3)"
   ]
  },
  {
   "cell_type": "code",
   "execution_count": 34,
   "metadata": {},
   "outputs": [
    {
     "name": "stdout",
     "output_type": "stream",
     "text": [
      "Promedio edad 1era Clase:  38.23\n",
      "Promedio edad 2da Clase:  29.88\n",
      "Promedio edad 3era Clase:  25.14\n"
     ]
    }
   ],
   "source": [
    "print(\"Promedio edad 1era Clase: \",np.round(edades_c1.mean(),2))\n",
    "print(\"Promedio edad 2da Clase: \",np.round(edades_c2.mean(),2))\n",
    "print(\"Promedio edad 3era Clase: \",np.round(edades_c3.mean(),2))"
   ]
  },
  {
   "cell_type": "code",
   "execution_count": 35,
   "metadata": {},
   "outputs": [
    {
     "data": {
      "text/plain": [
       "Pclass      \n",
       "1       0.25    27.0\n",
       "        0.50    37.0\n",
       "        0.75    49.0\n",
       "2       0.25    23.0\n",
       "        0.50    29.0\n",
       "        0.75    36.0\n",
       "3       0.25    18.0\n",
       "        0.50    24.0\n",
       "        0.75    32.0\n",
       "Name: Age, dtype: float64"
      ]
     },
     "execution_count": 35,
     "metadata": {},
     "output_type": "execute_result"
    }
   ],
   "source": [
    "psj_por_clase = datos.groupby(['Pclass'])\n",
    "psj_por_clase['Age'].quantile([0.25,0.50,0.75])"
   ]
  }
 ],
 "metadata": {
  "kernelspec": {
   "display_name": "Python 3.10.4 ('env': venv)",
   "language": "python",
   "name": "python3"
  },
  "language_info": {
   "codemirror_mode": {
    "name": "ipython",
    "version": 3
   },
   "file_extension": ".py",
   "mimetype": "text/x-python",
   "name": "python",
   "nbconvert_exporter": "python",
   "pygments_lexer": "ipython3",
   "version": "3.10.5"
  },
  "orig_nbformat": 4,
  "vscode": {
   "interpreter": {
    "hash": "fa4aca12417c496b34716c6e923830efca14ac6022a94ec1835df235f07f1bf2"
   }
  }
 },
 "nbformat": 4,
 "nbformat_minor": 2
}
