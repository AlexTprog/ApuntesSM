{
 "cells": [
  {
   "cell_type": "code",
   "execution_count": null,
   "metadata": {
    "colab": {
     "base_uri": "https://localhost:8080/"
    },
    "id": "8m6NCB8PKg1c",
    "outputId": "8792db27-ccf8-49d9-f6ef-e0850cdf7fac"
   },
   "outputs": [],
   "source": [
    "#pip install imutils "
   ]
  },
  {
   "cell_type": "markdown",
   "metadata": {
    "id": "wbTzNLdpK77K"
   },
   "source": [
    "Importar paquetes y librerias"
   ]
  },
  {
   "cell_type": "code",
   "execution_count": 6,
   "metadata": {
    "id": "qQM00C47K-Ns"
   },
   "outputs": [],
   "source": [
    "import matplotlib.pyplot as plt\n",
    "import imutils\n",
    "import numpy as np\n",
    "import cv2"
   ]
  },
  {
   "cell_type": "markdown",
   "metadata": {
    "id": "NB4kkujuLHpg"
   },
   "source": [
    "Función para mostrar una imagen con imshow() de pyplot"
   ]
  },
  {
   "cell_type": "code",
   "execution_count": 7,
   "metadata": {
    "id": "QbuaCTRoLHW4"
   },
   "outputs": [],
   "source": [
    "def mostrar_imagen(title, imagen):\n",
    "  imagen = cv2.cvtColor(imagen,cv2.COLOR_BGR2RGB)\n",
    "  plt.imshow(imagen)\n",
    "  plt.title(title)\n",
    "  plt.grid(False)\n",
    "  plt.show()"
   ]
  },
  {
   "cell_type": "markdown",
   "metadata": {
    "id": "3frYfV1leKxS"
   },
   "source": [
    "# Recortar imagenes con OpenCV y NumPy"
   ]
  },
  {
   "cell_type": "markdown",
   "metadata": {
    "id": "QLhC_GtUlwU-"
   },
   "source": [
    "Ejemplo de uso de numpy"
   ]
  },
  {
   "cell_type": "code",
   "execution_count": 8,
   "metadata": {
    "colab": {
     "base_uri": "https://localhost:8080/"
    },
    "id": "iCzn2diqi1Hq",
    "outputId": "39facc5f-64f1-4349-e3f3-c7f67a0b4810"
   },
   "outputs": [
    {
     "data": {
      "text/plain": [
       "array([ 0,  1,  2,  3,  4,  5,  6,  7,  8,  9, 10, 11, 12, 13, 14, 15, 16,\n",
       "       17, 18, 19, 20, 21, 22, 23, 24])"
      ]
     },
     "execution_count": 8,
     "metadata": {},
     "output_type": "execute_result"
    }
   ],
   "source": [
    "I = np.arange(0,25)\n",
    "I"
   ]
  },
  {
   "cell_type": "code",
   "execution_count": 9,
   "metadata": {
    "colab": {
     "base_uri": "https://localhost:8080/"
    },
    "id": "MygfNGzJj38v",
    "outputId": "00669221-1f4f-4106-b20e-7e28ea907973"
   },
   "outputs": [
    {
     "data": {
      "text/plain": [
       "array([[ 0,  1,  2,  3,  4],\n",
       "       [ 5,  6,  7,  8,  9],\n",
       "       [10, 11, 12, 13, 14],\n",
       "       [15, 16, 17, 18, 19],\n",
       "       [20, 21, 22, 23, 24]])"
      ]
     },
     "execution_count": 9,
     "metadata": {},
     "output_type": "execute_result"
    }
   ],
   "source": [
    "I = I.reshape((5,5))\n",
    "I"
   ]
  },
  {
   "cell_type": "code",
   "execution_count": 10,
   "metadata": {
    "colab": {
     "base_uri": "https://localhost:8080/"
    },
    "id": "IDLO7s0SkJce",
    "outputId": "da312d41-2160-43dc-c52c-260f42c006bd"
   },
   "outputs": [
    {
     "data": {
      "text/plain": [
       "17"
      ]
     },
     "execution_count": 10,
     "metadata": {},
     "output_type": "execute_result"
    }
   ],
   "source": [
    "I[3,2]"
   ]
  },
  {
   "cell_type": "code",
   "execution_count": 11,
   "metadata": {
    "colab": {
     "base_uri": "https://localhost:8080/"
    },
    "id": "Mcto1KtTkc8H",
    "outputId": "b19ddbda-073f-4581-8df6-c91ce7c1d7cd"
   },
   "outputs": [
    {
     "data": {
      "text/plain": [
       "array([[ 1,  2,  3],\n",
       "       [ 6,  7,  8],\n",
       "       [11, 12, 13]])"
      ]
     },
     "execution_count": 11,
     "metadata": {},
     "output_type": "execute_result"
    }
   ],
   "source": [
    "I[0:3,1:4]"
   ]
  },
  {
   "cell_type": "code",
   "execution_count": 12,
   "metadata": {
    "colab": {
     "base_uri": "https://localhost:8080/"
    },
    "id": "cTf95hbmk90v",
    "outputId": "9d7ee654-3e73-45d2-b26a-3202d7490c5f"
   },
   "outputs": [
    {
     "data": {
      "text/plain": [
       "array([[16, 17, 18, 19],\n",
       "       [21, 22, 23, 24]])"
      ]
     },
     "execution_count": 12,
     "metadata": {},
     "output_type": "execute_result"
    }
   ],
   "source": [
    "I[3:5,1:5]"
   ]
  },
  {
   "cell_type": "markdown",
   "metadata": {
    "id": "TDiChIxnlUgn"
   },
   "source": [
    "Recortar imágenes con OpenCV"
   ]
  },
  {
   "cell_type": "code",
   "execution_count": 13,
   "metadata": {
    "id": "HPnfPQvNeSjL"
   },
   "outputs": [],
   "source": [
    "args = {\n",
    "    \"imagen\" :\"arch.png\"\n",
    "}"
   ]
  },
  {
   "cell_type": "code",
   "execution_count": 16,
   "metadata": {
    "colab": {
     "base_uri": "https://localhost:8080/",
     "height": 439
    },
    "id": "rIqnETsFei3B",
    "outputId": "814c77c5-0776-4558-9bd5-065e4431696a"
   },
   "outputs": [
    {
     "data": {
      "image/png": "[encoded data removed]",
      "text/plain": [
       "<Figure size 432x288 with 1 Axes>"
      ]
     },
     "metadata": {
      "needs_background": "light"
     },
     "output_type": "display_data"
    },
    {
     "data": {
      "image/png": "[encoded data removed]",
      "text/plain": [
       "<Figure size 432x288 with 1 Axes>"
      ]
     },
     "metadata": {
      "needs_background": "light"
     },
     "output_type": "display_data"
    }
   ],
   "source": [
    "#Cargar la imagen y mostrarla\n",
    "imagen = cv2.imread(args[\"imagen\"])\n",
    "mostrar_imagen(\"Original\",imagen)\n",
    "\n",
    "#Recortar la imagen con Numpy\n",
    "# 0:100 define parte del alto de la imagen\n",
    "# 50:350 define el ancho de la imagen\n",
    "recortado = imagen[0:100,50:350]\n",
    "mostrar_imagen(\"Recortado\",recortado)"
   ]
  }
 ],
 "metadata": {
  "colab": {
   "name": "09 OCV_RecortarImagenes.ipynb",
   "provenance": []
  },
  "kernelspec": {
   "display_name": "Python 3.10.5 ('env': venv)",
   "language": "python",
   "name": "python3"
  },
  "language_info": {
   "codemirror_mode": {
    "name": "ipython",
    "version": 3
   },
   "file_extension": ".py",
   "mimetype": "text/x-python",
   "name": "python",
   "nbconvert_exporter": "python",
   "pygments_lexer": "ipython3",
   "version": "3.10.5"
  },
  "vscode": {
   "interpreter": {
    "hash": "fa4aca12417c496b34716c6e923830efca14ac6022a94ec1835df235f07f1bf2"
   }
  }
 },
 "nbformat": 4,
 "nbformat_minor": 1
}
