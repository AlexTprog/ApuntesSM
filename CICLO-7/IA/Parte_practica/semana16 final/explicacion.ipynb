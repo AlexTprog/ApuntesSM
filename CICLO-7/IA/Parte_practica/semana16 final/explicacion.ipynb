{
 "cells": [
  {
   "cell_type": "markdown",
   "metadata": {},
   "source": [
    "# EXAMEN FINAL IA 2022"
   ]
  },
  {
   "cell_type": "markdown",
   "metadata": {},
   "source": [
    "#### Explicacion de la ejecucion\n",
    "\n",
    "Podemos cambiar los parametros del programa con las constantes definidas al inicio. Los nombres son autoexplicativos y cuentan con comentarios\n",
    "\n",
    "Por falta de tiempo no pude terminar de aplicar la indentificacion de color para la hoja.\n",
    "\n",
    "Al ejecutar el codigo debemos presionar la tecla q consecutivamente para ir viendo su funcionamient, y nos mostrara lo siguiente:\n",
    "\n",
    "1. El recorte del rostro con 30 px en todos los lados\n",
    "2. La seccion en donde se encuentra la hoja con el dni\n",
    "3. Los numeros detectados por el modelo de reconocmiento de texto\n",
    "\n",
    "en el utlimo paso debemos presionar q consecutivamente para que la final nos genere un txt con nombre dni en la carpeta DNI o la ruta que defina en las constante iniciales\n"
   ]
  }
 ],
 "metadata": {
  "kernelspec": {
   "display_name": "Python 3.10.5 ('env': venv)",
   "language": "python",
   "name": "python3"
  },
  "language_info": {
   "name": "python",
   "version": "3.10.5"
  },
  "orig_nbformat": 4,
  "vscode": {
   "interpreter": {
    "hash": "fa4aca12417c496b34716c6e923830efca14ac6022a94ec1835df235f07f1bf2"
   }
  }
 },
 "nbformat": 4,
 "nbformat_minor": 2
}
