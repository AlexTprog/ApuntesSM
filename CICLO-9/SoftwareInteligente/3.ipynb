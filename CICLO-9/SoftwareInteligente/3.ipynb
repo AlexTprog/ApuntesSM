{
  "cells": [
    {
      "attachments": {},
      "cell_type": "markdown",
      "metadata": {
        "id": "061LDk-O7GSG"
      },
      "source": [
        "## Crear las clases y funciones necesarias"
      ]
    },
    {
      "cell_type": "code",
      "execution_count": null,
      "metadata": {},
      "outputs": [],
      "source": [
        "import numpy as np, random, operator, pandas as pd, matplotlib.pyplot as plt"
      ]
    },
    {
      "attachments": {},
      "cell_type": "markdown",
      "metadata": {
        "id": "6FVtA6JN7GSI"
      },
      "source": [
        "Crear clase para manejar \"ciudades\""
      ]
    },
    {
      "cell_type": "code",
      "execution_count": null,
      "metadata": {
        "id": "CH9rueFR7GSI"
      },
      "outputs": [],
      "source": [
        "class City:\n",
        "    def __init__(self, x, y):\n",
        "        self.x = x\n",
        "        self.y = y\n",
        "    \n",
        "    def distance(self, city):\n",
        "        xDis = abs(self.x - city.x)\n",
        "        yDis = abs(self.y - city.y)\n",
        "        distance = np.sqrt((xDis ** 2) + (yDis ** 2))\n",
        "        return distance\n",
        "    \n",
        "    def __repr__(self):\n",
        "        return \"(\" + str(self.x) + \",\" + str(self.y) + \")\""
      ]
    },
    {
      "attachments": {},
      "cell_type": "markdown",
      "metadata": {
        "id": "0hFftlbb7GSJ"
      },
      "source": [
        "Crear una función de fitness"
      ]
    },
    {
      "cell_type": "code",
      "execution_count": null,
      "metadata": {
        "id": "4R23JxMg7GSK"
      },
      "outputs": [],
      "source": [
        "class Fitness:\n",
        "    def __init__(self, route):\n",
        "        self.route = route\n",
        "        self.distance = 0\n",
        "        self.fitness= 0.0\n",
        "    \n",
        "    def routeDistance(self):\n",
        "        if self.distance ==0:\n",
        "            pathDistance = 0\n",
        "            for i in range(0, len(self.route)):\n",
        "                fromCity = self.route[i]\n",
        "                toCity = None\n",
        "                if i + 1 < len(self.route):\n",
        "                    toCity = self.route[i + 1]\n",
        "                else:\n",
        "                    toCity = self.route[0]\n",
        "                pathDistance += fromCity.distance(toCity)\n",
        "            self.distance = pathDistance\n",
        "        return self.distance\n",
        "    \n",
        "    def routeFitness(self):\n",
        "        if self.fitness == 0:\n",
        "            self.fitness = 1 / float(self.routeDistance())\n",
        "        return self.fitness"
      ]
    },
    {
      "attachments": {},
      "cell_type": "markdown",
      "metadata": {
        "id": "J18Zw1wH7GSK"
      },
      "source": [
        "## Crea nuestra población inicial"
      ]
    },
    {
      "attachments": {},
      "cell_type": "markdown",
      "metadata": {
        "id": "RwNEMJHI7GSL"
      },
      "source": [
        "Generador de rutas"
      ]
    },
    {
      "cell_type": "code",
      "execution_count": null,
      "metadata": {
        "id": "IeQWgijt7GSL"
      },
      "outputs": [],
      "source": [
        "def createRoute(cityList):\n",
        "    route = random.sample(cityList, len(cityList))\n",
        "    return route"
      ]
    },
    {
      "attachments": {},
      "cell_type": "markdown",
      "metadata": {
        "id": "EzXlB-XI7GSM"
      },
      "source": [
        "Crear primera \"población\" (lista de rutas)"
      ]
    },
    {
      "cell_type": "code",
      "execution_count": null,
      "metadata": {
        "id": "QPpmbn2Z7GSM"
      },
      "outputs": [],
      "source": [
        "def initialPopulation(popSize, cityList):\n",
        "    population = []\n",
        "\n",
        "    for i in range(0, popSize):\n",
        "        population.append(createRoute(cityList))\n",
        "    return population"
      ]
    },
    {
      "attachments": {},
      "cell_type": "markdown",
      "metadata": {
        "id": "IIizmG657GSM"
      },
      "source": [
        "## Crear el algoritmo genético"
      ]
    },
    {
      "attachments": {},
      "cell_type": "markdown",
      "metadata": {
        "id": "mmasEvl77GSN"
      },
      "source": [
        "Clasificar individuos"
      ]
    },
    {
      "cell_type": "code",
      "execution_count": null,
      "metadata": {
        "id": "1wAToQzP7GSN"
      },
      "outputs": [],
      "source": [
        "def rankRoutes(population):\n",
        "    fitnessResults = {}\n",
        "    for i in range(0,len(population)):\n",
        "        fitnessResults[i] = Fitness(population[i]).routeFitness()\n",
        "    return sorted(fitnessResults.items(), key = operator.itemgetter(1), reverse = True)"
      ]
    },
    {
      "attachments": {},
      "cell_type": "markdown",
      "metadata": {
        "id": "jB-vaHJx7GSN"
      },
      "source": [
        "Cree una función de selección que se usará para hacer la lista de rutas principales"
      ]
    },
    {
      "cell_type": "code",
      "execution_count": null,
      "metadata": {
        "id": "nMR7uxi-7GSN"
      },
      "outputs": [],
      "source": [
        "def selection(popRanked, eliteSize):\n",
        "    selectionResults = []\n",
        "    df = pd.DataFrame(np.array(popRanked), columns=[\"Index\",\"Fitness\"])\n",
        "    df['cum_sum'] = df.Fitness.cumsum()\n",
        "    df['cum_perc'] = 100*df.cum_sum/df.Fitness.sum()\n",
        "    \n",
        "    for i in range(0, eliteSize):\n",
        "        selectionResults.append(popRanked[i][0])\n",
        "    for i in range(0, len(popRanked) - eliteSize):\n",
        "        pick = 100*random.random()\n",
        "        for i in range(0, len(popRanked)):\n",
        "            if pick <= df.iat[i,3]:\n",
        "                selectionResults.append(popRanked[i][0])\n",
        "                break\n",
        "    return selectionResults"
      ]
    },
    {
      "attachments": {},
      "cell_type": "markdown",
      "metadata": {
        "id": "J8CkFnoZ7GSO"
      },
      "source": [
        "Crear grupo de apareamiento"
      ]
    },
    {
      "cell_type": "code",
      "execution_count": null,
      "metadata": {
        "id": "NUrini0x7GSO"
      },
      "outputs": [],
      "source": [
        "def matingPool(population, selectionResults):\n",
        "    matingpool = []\n",
        "    for i in range(0, len(selectionResults)):\n",
        "        index = selectionResults[i]\n",
        "        matingpool.append(population[index])\n",
        "    return matingpool"
      ]
    },
    {
      "attachments": {},
      "cell_type": "markdown",
      "metadata": {
        "id": "DpY-hAUf7GSO"
      },
      "source": [
        "Cree una función cruzada para que dos padres creen un hijo"
      ]
    },
    {
      "cell_type": "code",
      "execution_count": null,
      "metadata": {
        "id": "uN8lj4qs7GSO"
      },
      "outputs": [],
      "source": [
        "def breed(parent1, parent2):\n",
        "    child = []\n",
        "    childP1 = []\n",
        "    childP2 = []\n",
        "    \n",
        "    geneA = int(random.random() * len(parent1))\n",
        "    geneB = int(random.random() * len(parent1))\n",
        "    \n",
        "    startGene = min(geneA, geneB)\n",
        "    endGene = max(geneA, geneB)\n",
        "\n",
        "    for i in range(startGene, endGene):\n",
        "        childP1.append(parent1[i])\n",
        "        \n",
        "    childP2 = [item for item in parent2 if item not in childP1]\n",
        "\n",
        "    child = childP1 + childP2\n",
        "    return child"
      ]
    },
    {
      "attachments": {},
      "cell_type": "markdown",
      "metadata": {
        "id": "31KHiH4m7GSP"
      },
      "source": [
        "Crear función para ejecutar el cruce sobre el grupo de acoplamiento completo"
      ]
    },
    {
      "cell_type": "code",
      "execution_count": null,
      "metadata": {
        "id": "kVbEzoma7GSP"
      },
      "outputs": [],
      "source": [
        "def breedPopulation(matingpool, eliteSize):\n",
        "    children = []\n",
        "    length = len(matingpool) - eliteSize\n",
        "    pool = random.sample(matingpool, len(matingpool))\n",
        "\n",
        "    for i in range(0,eliteSize):\n",
        "        children.append(matingpool[i])\n",
        "    \n",
        "    for i in range(0, length):\n",
        "        child = breed(pool[i], pool[len(matingpool)-i-1])\n",
        "        children.append(child)\n",
        "    return children"
      ]
    },
    {
      "attachments": {},
      "cell_type": "markdown",
      "metadata": {
        "id": "tal0RR4k7GSP"
      },
      "source": [
        "Crear función para mutar una sola ruta."
      ]
    },
    {
      "cell_type": "code",
      "execution_count": null,
      "metadata": {
        "id": "O0ADzAV77GSP"
      },
      "outputs": [],
      "source": [
        "def mutate(individual, mutationRate):\n",
        "    for swapped in range(len(individual)):\n",
        "        if(random.random() < mutationRate):\n",
        "            swapWith = int(random.random() * len(individual))\n",
        "            \n",
        "            city1 = individual[swapped]\n",
        "            city2 = individual[swapWith]\n",
        "            \n",
        "            individual[swapped] = city2\n",
        "            individual[swapWith] = city1\n",
        "    return individual"
      ]
    },
    {
      "attachments": {},
      "cell_type": "markdown",
      "metadata": {
        "id": "3BYAjZn77GSQ"
      },
      "source": [
        "Crear función para ejecutar la mutación en toda la población."
      ]
    },
    {
      "cell_type": "code",
      "execution_count": null,
      "metadata": {
        "id": "3jriMQ167GSQ"
      },
      "outputs": [],
      "source": [
        "def mutatePopulation(population, mutationRate):\n",
        "    mutatedPop = []\n",
        "    \n",
        "    for ind in range(0, len(population)):\n",
        "        mutatedInd = mutate(population[ind], mutationRate)\n",
        "        mutatedPop.append(mutatedInd)\n",
        "    return mutatedPop"
      ]
    },
    {
      "attachments": {},
      "cell_type": "markdown",
      "metadata": {
        "id": "WwOnEGD-7GSQ"
      },
      "source": [
        "Ponga todos los pasos juntos para crear la próxima generación."
      ]
    },
    {
      "cell_type": "code",
      "execution_count": null,
      "metadata": {
        "id": "tzvRrK4V7GSQ"
      },
      "outputs": [],
      "source": [
        "def nextGeneration(currentGen, eliteSize, mutationRate):\n",
        "    popRanked = rankRoutes(currentGen)\n",
        "    selectionResults = selection(popRanked, eliteSize)\n",
        "    matingpool = matingPool(currentGen, selectionResults)\n",
        "    children = breedPopulation(matingpool, eliteSize)\n",
        "    nextGeneration = mutatePopulation(children, mutationRate)\n",
        "    return nextGeneration"
      ]
    },
    {
      "attachments": {},
      "cell_type": "markdown",
      "metadata": {
        "id": "0bikQ72f7GSQ"
      },
      "source": [
        "Paso final: crear el algoritmo genético."
      ]
    },
    {
      "cell_type": "code",
      "execution_count": null,
      "metadata": {
        "id": "9dI5Rg7b7GSR"
      },
      "outputs": [],
      "source": [
        "def geneticAlgorithm(population, popSize, eliteSize, mutationRate, generations):\n",
        "    pop = initialPopulation(popSize, population)\n",
        "    print(\"Initial distance: \" + str(1 / rankRoutes(pop)[0][1]))\n",
        "    \n",
        "    for i in range(0, generations):\n",
        "        pop = nextGeneration(pop, eliteSize, mutationRate)\n",
        "    \n",
        "    print(\"Final distance: \" + str(1 / rankRoutes(pop)[0][1]))\n",
        "    bestRouteIndex = rankRoutes(pop)[0][0]\n",
        "    bestRoute = pop[bestRouteIndex]\n",
        "    return bestRoute"
      ]
    },
    {
      "attachments": {},
      "cell_type": "markdown",
      "metadata": {
        "id": "poSIq2AQ7GSR"
      },
      "source": [
        "## Ejecutando el algoritmo genético"
      ]
    },
    {
      "attachments": {},
      "cell_type": "markdown",
      "metadata": {
        "id": "erulMMU97GSR"
      },
      "source": [
        "Crear lista de ciudades"
      ]
    },
    {
      "cell_type": "code",
      "execution_count": null,
      "metadata": {
        "id": "sSF9QeX67GSR"
      },
      "outputs": [],
      "source": [
        "cityList = [City(3,1),City(4,2),City(1,2),City(3, 7), City(3,9), City(9,1)]"
      ]
    },
    {
      "attachments": {},
      "cell_type": "markdown",
      "metadata": {
        "id": "QfSiMnsg7GSR"
      },
      "source": [
        "Ejecutar el algoritmo genético"
      ]
    },
    {
      "cell_type": "code",
      "execution_count": null,
      "metadata": {
        "colab": {
          "base_uri": "https://localhost:8080/"
        },
        "id": "eao7IR6C7GSS",
        "outputId": "a187b2df-d26c-4a58-d792-15df34c3307d"
      },
      "outputs": [
        {
          "name": "stdout",
          "output_type": "stream",
          "text": [
            "Initial distance: 28.33508749109257\n",
            "Final distance: 27.714216893965876\n"
          ]
        },
        {
          "data": {
            "text/plain": [
              "[(9,1), (3,1), (1,2), (3,9), (3,7), (4,2)]"
            ]
          },
          "execution_count": 16,
          "metadata": {},
          "output_type": "execute_result"
        }
      ],
      "source": [
        "geneticAlgorithm(population=cityList, popSize=5, eliteSize=2, mutationRate=0.01, generations=10)"
      ]
    }
  ],
  "metadata": {
    "colab": {
      "provenance": []
    },
    "kernelspec": {
      "display_name": "Python 3",
      "language": "python",
      "name": "python3"
    },
    "language_info": {
      "codemirror_mode": {
        "name": "ipython",
        "version": 3
      },
      "file_extension": ".py",
      "mimetype": "text/x-python",
      "name": "python",
      "nbconvert_exporter": "python",
      "pygments_lexer": "ipython3",
      "version": "3.6.4"
    }
  },
  "nbformat": 4,
  "nbformat_minor": 0
}
